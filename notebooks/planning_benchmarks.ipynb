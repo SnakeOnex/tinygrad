{
 "cells": [
  {
   "cell_type": "code",
   "execution_count": 64,
   "id": "c6150e4e",
   "metadata": {},
   "outputs": [],
   "source": [
    "import sys\n",
    "import os\n",
    "import time\n",
    "import matplotlib.pyplot as plt\n",
    "sys.path.append(\".\")\n",
    "sys.path.append(\"..\")\n",
    "\n",
    "from algorithms.old_path_planning import OldPathPlanner\n",
    "from algorithms.path_planning import PathPlanner, stanley_smooth_path\n",
    "from algorithms.optimized_path_planning import stanley_smooth_path as optimized_smooth_path\n",
    "from algorithms.david_planning import PathPlanner as DavidPathPlanning, stanley_smooth_path as david_smooth\n",
    "\n",
    "from tvojemama.logger import LogReader\n",
    "\n",
    "import torch\n",
    "from torch import optim"
   ]
  },
  {
   "cell_type": "markdown",
   "id": "4cd9c560",
   "metadata": {},
   "source": [
    "## Gather data from log"
   ]
  },
  {
   "cell_type": "code",
   "execution_count": 33,
   "id": "14d5e9ff",
   "metadata": {},
   "outputs": [
    {
     "name": "stdout",
     "output_type": "stream",
     "text": [
      "1076.087575196 1076.100148199\n"
     ]
    }
   ],
   "source": [
    "log_path = \"/home/snake/eforce/bros/data/bros_logs/05_05_2023-07_09_13/AS/mission_05_05_2023-07_09_13.pkl\"\n",
    "log_reader = LogReader(log_path)"
   ]
  },
  {
   "cell_type": "code",
   "execution_count": 34,
   "id": "b7eeb207",
   "metadata": {},
   "outputs": [
    {
     "name": "stdout",
     "output_type": "stream",
     "text": [
      "got 945 samples\n"
     ]
    }
   ],
   "source": [
    "period = 0.05 # time between percep_data samples in seconds\n",
    "\n",
    "percep_datas = []\n",
    "\n",
    "counter = 0\n",
    "start_time = None\n",
    "for msg_t, (msg_name, data) in log_reader:\n",
    "    \n",
    "    mission_kwargs = data['mission_kwargs']\n",
    "    percep_data = mission_kwargs['percep_data']\n",
    "    \n",
    "    if start_time is None:\n",
    "        start_time = msg_t\n",
    "        \n",
    "    curr_msg_t = msg_t - start_time\n",
    "        \n",
    "    if curr_msg_t / period >= counter:\n",
    "        counter += 1\n",
    "        \n",
    "        if percep_data.shape[0] != 0:\n",
    "            percep_datas.append(percep_data)\n",
    "    \n",
    "print(f\"got {len(percep_datas)} samples\")"
   ]
  },
  {
   "cell_type": "markdown",
   "id": "0d7f2708",
   "metadata": {},
   "source": [
    "## Run tests"
   ]
  },
  {
   "cell_type": "code",
   "execution_count": 35,
   "id": "d736d9bd",
   "metadata": {},
   "outputs": [],
   "source": [
    "def benchmark_path_planning(find_path_fn, smooth_fn=None):\n",
    "    indiv_times = []\n",
    "    start_time = time.time()\n",
    "    for percep_data in percep_datas:\n",
    "        curr_start_time = time.time()\n",
    "        path = find_path_fn(percep_data)\n",
    "        \n",
    "        if smooth_fn is not None:\n",
    "            path = smooth_fn(path)\n",
    "            \n",
    "        curr_end_time = time.time()\n",
    "        indiv_times.append(curr_end_time - curr_start_time)\n",
    "    end_time = time.time()\n",
    "    \n",
    "    print(f\"took {end_time - start_time:.2f} seconds\")\n",
    "    print(f\"\\tMean time: {((end_time - start_time) / len(percep_datas) * 1000):.3f} ms\")\n",
    "    print(f\"\\tMax time: {max(indiv_times) * 1000:.3f} ms\")\n",
    "    print(f\"\\tMin time: {min(indiv_times) * 1000:.3f} ms\")"
   ]
  },
  {
   "cell_type": "code",
   "execution_count": 36,
   "id": "0f56e860",
   "metadata": {},
   "outputs": [],
   "source": [
    "# initializing\n",
    "path_planner = PathPlanner()\n",
    "old_path_planner = OldPathPlanner({\"n_steps\": 20})\n",
    "david_planner = DavidPathPlanning()"
   ]
  },
  {
   "cell_type": "code",
   "execution_count": 37,
   "id": "f3f348b6",
   "metadata": {
    "scrolled": true
   },
   "outputs": [
    {
     "name": "stdout",
     "output_type": "stream",
     "text": [
      "took 9.79 seconds\n",
      "\tMean time: 10.356 ms\n",
      "\tMax time: 25.243 ms\n",
      "\tMin time: 3.186 ms\n"
     ]
    }
   ],
   "source": [
    "benchmark_path_planning(find_path_fn=path_planner.find_path, smooth_fn=stanley_smooth_path)"
   ]
  },
  {
   "cell_type": "code",
   "execution_count": 38,
   "id": "c43f3ebc",
   "metadata": {},
   "outputs": [
    {
     "name": "stdout",
     "output_type": "stream",
     "text": [
      "took 4.56 seconds\n",
      "\tMean time: 4.829 ms\n",
      "\tMax time: 16.403 ms\n",
      "\tMin time: 0.675 ms\n"
     ]
    }
   ],
   "source": [
    "benchmark_path_planning(find_path_fn=path_planner.find_path, smooth_fn=None)"
   ]
  },
  {
   "cell_type": "code",
   "execution_count": 39,
   "id": "686b54ca",
   "metadata": {},
   "outputs": [
    {
     "name": "stdout",
     "output_type": "stream",
     "text": [
      "took 0.80 seconds\n",
      "\tMean time: 0.846 ms\n",
      "\tMax time: 4.024 ms\n",
      "\tMin time: 0.147 ms\n"
     ]
    }
   ],
   "source": [
    "benchmark_path_planning(find_path_fn=old_path_planner.find_path, smooth_fn=None)"
   ]
  },
  {
   "cell_type": "code",
   "execution_count": 40,
   "id": "58f2528f",
   "metadata": {},
   "outputs": [
    {
     "name": "stdout",
     "output_type": "stream",
     "text": [
      "took 5.29 seconds\n",
      "\tMean time: 5.596 ms\n",
      "\tMax time: 50.372 ms\n",
      "\tMin time: 1.886 ms\n"
     ]
    }
   ],
   "source": [
    "benchmark_path_planning(find_path_fn=old_path_planner.find_path, smooth_fn=optimized_smooth_path)"
   ]
  },
  {
   "cell_type": "code",
   "execution_count": 41,
   "id": "df05dd8d",
   "metadata": {},
   "outputs": [
    {
     "name": "stdout",
     "output_type": "stream",
     "text": [
      "took 4.82 seconds\n",
      "\tMean time: 5.098 ms\n",
      "\tMax time: 11.137 ms\n",
      "\tMin time: 2.267 ms\n"
     ]
    }
   ],
   "source": [
    "benchmark_path_planning(find_path_fn=david_planner.find_path, smooth_fn=david_smooth)"
   ]
  },
  {
   "cell_type": "code",
   "execution_count": 42,
   "id": "79a604cc",
   "metadata": {},
   "outputs": [
    {
     "name": "stdout",
     "output_type": "stream",
     "text": [
      "took 0.61 seconds\n",
      "\tMean time: 0.645 ms\n",
      "\tMax time: 1.961 ms\n",
      "\tMin time: 0.242 ms\n"
     ]
    }
   ],
   "source": [
    "benchmark_path_planning(find_path_fn=david_planner.find_path, smooth_fn=None)"
   ]
  },
  {
   "cell_type": "markdown",
   "id": "c2866edc",
   "metadata": {},
   "source": [
    "## Custom solution"
   ]
  },
  {
   "cell_type": "code",
   "execution_count": 134,
   "id": "86786d56",
   "metadata": {},
   "outputs": [],
   "source": [
    "def torch_smooth_path(path, use_spline_as_smoother=False, add_more_points_to_path=False):\n",
    "\n",
    "    def normalize(v):\n",
    "        # norm = np.linalg.norm(v, axis=0) + 0.00001\n",
    "        norm = torch.norm(v, dim=0) + 0.00001\n",
    "        return v / norm  # .reshape(1, v.shape[1])\n",
    "\n",
    "    def curvature(waypoints):\n",
    "        '''\n",
    "        Curvature as  the sum of the normalized dot product between the way elements\n",
    "        Implement second term of the smoothing objective.\n",
    "\n",
    "        args:\n",
    "            waypoints [2, num_waypoints] !!!!!\n",
    "        '''\n",
    "        shift_left = torch.roll(waypoints, shifts=-1, dims=1)\n",
    "        shift_right = torch.roll(waypoints, shifts=1, dims=1)\n",
    "        left_half = normalize(shift_left - waypoints)\n",
    "        right_half = normalize(waypoints - shift_right)\n",
    "        mul = left_half * right_half\n",
    "        segment = torch.sum(mul, dim=0)\n",
    "        return torch.sum(segment[1:-1])\n",
    "\n",
    "    def smoothing_objective(waypoints, waypoints_center, weight_curvature=16):  # weight_curvature=128\n",
    "        '''\n",
    "        Objective for path smoothing\n",
    "\n",
    "        args:\n",
    "            waypoints [2 * num_waypoints] !!!!!\n",
    "            waypoints_center [2 * num_waypoints] !!!!!\n",
    "            weight_curvature (default=40)\n",
    "        '''\n",
    "        waypoints = waypoints.reshape(-1, 2)\n",
    "        waypoints_center = waypoints_center.reshape(-1, 2)\n",
    "        ls_tocenter = torch.sum(torch.square(waypoints - waypoints_center))\n",
    "        ls_curvature = curvature(waypoints.T)\n",
    "        boundary_penalty = 0  # ? TODO? F_rddf in Stanley paper\n",
    "        return ls_tocenter - weight_curvature * ls_curvature + boundary_penalty\n",
    "\n",
    "    initial_trajectory = torch.tensor(path, dtype=torch.float32, requires_grad=True)\n",
    "    initial_trajectory_gt = initial_trajectory.clone()\n",
    "    \n",
    "#     optimizer = optim.Adam([initial_trajectory], lr=0.1)\n",
    "    optimizer = optim.SGD([initial_trajectory], lr=0.01)\n",
    "    num_iterations = 2\n",
    "    \n",
    "    for i in range(num_iterations):\n",
    "        optimizer.zero_grad()\n",
    "        \n",
    "        cost = smoothing_objective(initial_trajectory, initial_trajectory_gt)\n",
    "        \n",
    "        cost.backward()\n",
    "        optimizer.step()\n",
    "\n",
    "    optimized_trajectory = initial_trajectory.detach().numpy()\n",
    "    smooth_path = optimized_trajectory.reshape(-1, 2)\n",
    "    smooth_path[0] = [0., 0.]  # TODO:Fix this ?add constraint to minimize?\n",
    "    return smooth_path"
   ]
  },
  {
   "cell_type": "code",
   "execution_count": 135,
   "id": "cdcc57af",
   "metadata": {},
   "outputs": [],
   "source": [
    "cones = percep_datas[310]\n",
    "path = david_planner.find_path(cones)\n",
    "smoother_path = torch_smooth_path(path)"
   ]
  },
  {
   "cell_type": "code",
   "execution_count": 136,
   "id": "1a0e0a18",
   "metadata": {},
   "outputs": [
    {
     "data": {
      "image/png": "[encoded data removed]",
      "text/plain": [
       "<Figure size 432x288 with 1 Axes>"
      ]
     },
     "metadata": {
      "needs_background": "light"
     },
     "output_type": "display_data"
    }
   ],
   "source": [
    "plt.plot(cones[:,0], cones[:,1], '.')\n",
    "plt.plot(path[:,0], path[:,1], '-', color='red' ,label='orig path')\n",
    "plt.plot(smoother_path[:,0], smoother_path[:,1], '-', color='green', label='torch smooth')\n",
    "plt.legend()\n",
    "plt.show()"
   ]
  },
  {
   "cell_type": "code",
   "execution_count": 137,
   "id": "2cab945d",
   "metadata": {},
   "outputs": [
    {
     "name": "stdout",
     "output_type": "stream",
     "text": [
      "took 1.58 seconds\n",
      "\tMean time: 1.677 ms\n",
      "\tMax time: 3.802 ms\n",
      "\tMin time: 1.182 ms\n"
     ]
    }
   ],
   "source": [
    "benchmark_path_planning(find_path_fn=david_planner.find_path, smooth_fn=torch_smooth_path)"
   ]
  },
  {
   "cell_type": "code",
   "execution_count": null,
   "id": "38172234",
   "metadata": {},
   "outputs": [],
   "source": []
  }
 ],
 "metadata": {
  "kernelspec": {
   "display_name": "Python 3 (ipykernel)",
   "language": "python",
   "name": "python3"
  },
  "language_info": {
   "codemirror_mode": {
    "name": "ipython",
    "version": 3
   },
   "file_extension": ".py",
   "mimetype": "text/x-python",
   "name": "python",
   "nbconvert_exporter": "python",
   "pygments_lexer": "ipython3",
   "version": "3.8.5"
  },
  "varInspector": {
   "cols": {
    "lenName": 16,
    "lenType": 16,
    "lenVar": 40
   },
   "kernels_config": {
    "python": {
     "delete_cmd_postfix": "",
     "delete_cmd_prefix": "del ",
     "library": "var_list.py",
     "varRefreshCmd": "print(var_dic_list())"
    },
    "r": {
     "delete_cmd_postfix": ") ",
     "delete_cmd_prefix": "rm(",
     "library": "var_list.r",
     "varRefreshCmd": "cat(var_dic_list()) "
    }
   },
   "types_to_exclude": [
    "module",
    "function",
    "builtin_function_or_method",
    "instance",
    "_Feature"
   ],
   "window_display": false
  }
 },
 "nbformat": 4,
 "nbformat_minor": 5
}
