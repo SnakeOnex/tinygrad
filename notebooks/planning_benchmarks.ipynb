{
 "cells": [
  {
   "cell_type": "code",
   "execution_count": 16,
   "id": "c6150e4e",
   "metadata": {},
   "outputs": [],
   "source": [
    "import sys\n",
    "import os\n",
    "import time\n",
    "sys.path.append(\".\")\n",
    "sys.path.append(\"..\")\n",
    "\n",
    "from algorithms.old_path_planning import OldPathPlanner\n",
    "from algorithms.path_planning import PathPlanner, stanley_smooth_path\n",
    "from algorithms.optimized_path_planning import stanley_smooth_path as optimized_smooth_path\n",
    "from algorithms.david_planning import PathPlanner as DavidPathPlanning, stanley_smooth_path as david_smooth\n",
    "\n",
    "from tvojemama.logger import LogReader\n",
    "\n",
    "import torch"
   ]
  },
  {
   "cell_type": "markdown",
   "id": "4cd9c560",
   "metadata": {},
   "source": [
    "## Gather data from log"
   ]
  },
  {
   "cell_type": "code",
   "execution_count": 2,
   "id": "14d5e9ff",
   "metadata": {},
   "outputs": [],
   "source": [
    "log_path = \"../data/bros_logs/04_05_2023-18_29_34/AS/mission_04_05_2023-18_29_34.pkl\"\n",
    "log_reader = LogReader(log_path)"
   ]
  },
  {
   "cell_type": "code",
   "execution_count": 3,
   "id": "b7eeb207",
   "metadata": {},
   "outputs": [
    {
     "name": "stdout",
     "output_type": "stream",
     "text": [
      "got 3045 samples\n"
     ]
    }
   ],
   "source": [
    "period = 2. # time between percep_data samples in seconds\n",
    "\n",
    "percep_datas = []\n",
    "\n",
    "counter = 0\n",
    "start_time = None\n",
    "for msg_t, (msg_name, data) in log_reader:\n",
    "    \n",
    "    mission_kwargs = data['mission_kwargs']\n",
    "    percep_data = mission_kwargs['percep_data']\n",
    "    \n",
    "    if start_time is None:\n",
    "        start_time = msg_t\n",
    "        \n",
    "    if msg_t / period >= counter:\n",
    "        counter += 1\n",
    "        \n",
    "        if percep_data.shape[0] != 0:\n",
    "            percep_datas.append(percep_data)\n",
    "    \n",
    "print(f\"got {len(percep_datas)} samples\")"
   ]
  },
  {
   "cell_type": "markdown",
   "id": "0d7f2708",
   "metadata": {},
   "source": [
    "## Run tests"
   ]
  },
  {
   "cell_type": "code",
   "execution_count": 4,
   "id": "d736d9bd",
   "metadata": {},
   "outputs": [],
   "source": [
    "def benchmark_path_planning(find_path_fn, smooth_fn=None):\n",
    "    indiv_times = []\n",
    "    start_time = time.time()\n",
    "    for percep_data in percep_datas:\n",
    "        curr_start_time = time.time()\n",
    "        path = find_path_fn(percep_data)\n",
    "        \n",
    "        if smooth_fn is not None:\n",
    "            path = smooth_fn(path)\n",
    "            \n",
    "        curr_end_time = time.time()\n",
    "        indiv_times.append(curr_end_time - curr_start_time)\n",
    "    end_time = time.time()\n",
    "    \n",
    "    print(f\"took {end_time - start_time:.2f} seconds\")\n",
    "    print(f\"\\tMean time: {((end_time - start_time) / len(percep_datas) * 1000):.3f} ms\")\n",
    "    print(f\"\\tMax time: {max(indiv_times) * 1000:.3f} ms\")\n",
    "    print(f\"\\tMin time: {min(indiv_times) * 1000:.3f} ms\")"
   ]
  },
  {
   "cell_type": "code",
   "execution_count": 12,
   "id": "0f56e860",
   "metadata": {},
   "outputs": [],
   "source": [
    "# initializing\n",
    "path_planner = PathPlanner()\n",
    "old_path_planner = OldPathPlanner({\"n_steps\": 20})\n",
    "david_planner = DavidPathPlanning()"
   ]
  },
  {
   "cell_type": "code",
   "execution_count": 14,
   "id": "f3f348b6",
   "metadata": {},
   "outputs": [
    {
     "name": "stdout",
     "output_type": "stream",
     "text": [
      "took 34.89 seconds\n",
      "\tMean time: 11.459 ms\n",
      "\tMax time: 71.688 ms\n",
      "\tMin time: 4.134 ms\n"
     ]
    }
   ],
   "source": [
    "benchmark_path_planning(find_path_fn=path_planner.find_path, smooth_fn=stanley_smooth_path)"
   ]
  },
  {
   "cell_type": "code",
   "execution_count": 7,
   "id": "c43f3ebc",
   "metadata": {},
   "outputs": [
    {
     "name": "stdout",
     "output_type": "stream",
     "text": [
      "took 14.01 seconds\n",
      "\tMean time: 4.601 ms\n",
      "\tMax time: 17.096 ms\n",
      "\tMin time: 0.785 ms\n"
     ]
    }
   ],
   "source": [
    "benchmark_path_planning(find_path_fn=path_planner.find_path, smooth_fn=None)"
   ]
  },
  {
   "cell_type": "code",
   "execution_count": 8,
   "id": "686b54ca",
   "metadata": {},
   "outputs": [
    {
     "name": "stdout",
     "output_type": "stream",
     "text": [
      "took 2.56 seconds\n",
      "\tMean time: 0.840 ms\n",
      "\tMax time: 4.201 ms\n",
      "\tMin time: 0.172 ms\n"
     ]
    }
   ],
   "source": [
    "benchmark_path_planning(find_path_fn=old_path_planner.find_path, smooth_fn=None)"
   ]
  },
  {
   "cell_type": "code",
   "execution_count": 9,
   "id": "58f2528f",
   "metadata": {},
   "outputs": [
    {
     "name": "stdout",
     "output_type": "stream",
     "text": [
      "took 20.53 seconds\n",
      "\tMean time: 6.743 ms\n",
      "\tMax time: 63.550 ms\n",
      "\tMin time: 2.553 ms\n"
     ]
    }
   ],
   "source": [
    "benchmark_path_planning(find_path_fn=old_path_planner.find_path, smooth_fn=optimized_smooth_path)"
   ]
  },
  {
   "cell_type": "code",
   "execution_count": 13,
   "id": "df05dd8d",
   "metadata": {},
   "outputs": [
    {
     "name": "stdout",
     "output_type": "stream",
     "text": [
      "took 19.28 seconds\n",
      "\tMean time: 6.330 ms\n",
      "\tMax time: 58.989 ms\n",
      "\tMin time: 1.442 ms\n"
     ]
    }
   ],
   "source": [
    "benchmark_path_planning(find_path_fn=david_planner.find_path, smooth_fn=david_smooth)"
   ]
  },
  {
   "cell_type": "code",
   "execution_count": 15,
   "id": "79a604cc",
   "metadata": {},
   "outputs": [
    {
     "name": "stdout",
     "output_type": "stream",
     "text": [
      "took 2.28 seconds\n",
      "\tMean time: 0.750 ms\n",
      "\tMax time: 13.193 ms\n",
      "\tMin time: 0.317 ms\n"
     ]
    }
   ],
   "source": [
    "benchmark_path_planning(find_path_fn=david_planner.find_path, smooth_fn=None)"
   ]
  },
  {
   "cell_type": "markdown",
   "id": "c2866edc",
   "metadata": {},
   "source": [
    "## Custom solution"
   ]
  },
  {
   "cell_type": "code",
   "execution_count": 10,
   "id": "b0a09e49",
   "metadata": {},
   "outputs": [],
   "source": [
    "def torch_smooth_fn(path):\n",
    "    pass"
   ]
  },
  {
   "cell_type": "code",
   "execution_count": null,
   "id": "350ca1e7",
   "metadata": {},
   "outputs": [],
   "source": [
    "def curvature(waypoints):\n",
    "    '''\n",
    "    Curvature as  the sum of the normalized dot product between the way elements\n",
    "    Implement second term of the smoothing objective.\n",
    "\n",
    "    args:\n",
    "        waypoints [2, num_waypoints] !!!!!\n",
    "    '''\n",
    "    shift_left = np.roll(waypoints, shift=-1, axis=1)\n",
    "    shift_right = np.roll(waypoints, shift=1, axis=1)\n",
    "    left_half = normalize(shift_left - waypoints)\n",
    "    right_half = normalize(waypoints - shift_right)\n",
    "\n",
    "    mul = left_half * right_half\n",
    "    segment = np.sum(mul, axis=0)\n",
    "\n",
    "    return np.sum(segment[1:-1])"
   ]
  },
  {
   "cell_type": "code",
   "execution_count": null,
   "id": "1fede850",
   "metadata": {},
   "outputs": [],
   "source": [
    "iters = 1\n",
    "inp = percep_datas[0]\n",
    "for it in range(iters):\n",
    "    # loss fn\n",
    "    out = objective_fn(inp)\n",
    "    \n",
    "    # ground truth -> stara cesta.copy()\n",
    "    # params & input -> stara cesta.copy()"
   ]
  }
 ],
 "metadata": {
  "kernelspec": {
   "display_name": "Python 3 (ipykernel)",
   "language": "python",
   "name": "python3"
  },
  "language_info": {
   "codemirror_mode": {
    "name": "ipython",
    "version": 3
   },
   "file_extension": ".py",
   "mimetype": "text/x-python",
   "name": "python",
   "nbconvert_exporter": "python",
   "pygments_lexer": "ipython3",
   "version": "3.10.9"
  }
 },
 "nbformat": 4,
 "nbformat_minor": 5
}
