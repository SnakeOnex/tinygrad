{
 "cells": [
  {
   "cell_type": "code",
   "execution_count": 1,
   "id": "c6150e4e",
   "metadata": {
    "scrolled": true
   },
   "outputs": [],
   "source": [
    "import sys\n",
    "import os\n",
    "import time\n",
    "import matplotlib.pyplot as plt\n",
    "sys.path.append(\".\")\n",
    "sys.path.append(\"..\")\n",
    "\n",
    "from algorithms.old_path_planning import OldPathPlanner\n",
    "from algorithms.path_planning import PathPlanner, stanley_smooth_path\n",
    "from algorithms.optimized_path_planning import stanley_smooth_path as optimized_smooth_path\n",
    "from algorithms.david_planning import torch_smooth, PathPlanner as DavidPathPlanning, stanley_smooth_path as david_smooth\n",
    "\n",
    "from tvojemama.logger import LogReader\n",
    "\n",
    "import torch\n",
    "from torch import optim\n",
    "\n",
    "%load_ext autoreload\n",
    "%autoreload 2\n",
    "%matplotlib inline"
   ]
  },
  {
   "cell_type": "markdown",
   "id": "4cd9c560",
   "metadata": {},
   "source": [
    "## Gather data from log"
   ]
  },
  {
   "cell_type": "code",
   "execution_count": 2,
   "id": "14d5e9ff",
   "metadata": {},
   "outputs": [
    {
     "name": "stdout",
     "output_type": "stream",
     "text": [
      "1076.087575196 1076.100148199\n"
     ]
    }
   ],
   "source": [
    "log_path = \"/home/snake/eforce/bros/data/bros_logs/05_05_2023-07_09_13/AS/mission_05_05_2023-07_09_13.pkl\"\n",
    "log_reader = LogReader(log_path)"
   ]
  },
  {
   "cell_type": "code",
   "execution_count": 3,
   "id": "b7eeb207",
   "metadata": {},
   "outputs": [
    {
     "name": "stdout",
     "output_type": "stream",
     "text": [
      "got 945 samples\n"
     ]
    }
   ],
   "source": [
    "period = 0.05 # time between percep_data samples in seconds\n",
    "\n",
    "percep_datas = []\n",
    "\n",
    "counter = 0\n",
    "start_time = None\n",
    "for msg_t, (msg_name, data) in log_reader:\n",
    "    \n",
    "    mission_kwargs = data['mission_kwargs']\n",
    "    percep_data = mission_kwargs['percep_data']\n",
    "    \n",
    "    if start_time is None:\n",
    "        start_time = msg_t\n",
    "        \n",
    "    curr_msg_t = msg_t - start_time\n",
    "        \n",
    "    if curr_msg_t / period >= counter:\n",
    "        counter += 1\n",
    "        \n",
    "        if percep_data.shape[0] != 0:\n",
    "            percep_datas.append(percep_data)\n",
    "    \n",
    "print(f\"got {len(percep_datas)} samples\")"
   ]
  },
  {
   "cell_type": "markdown",
   "id": "0d7f2708",
   "metadata": {},
   "source": [
    "## Run tests"
   ]
  },
  {
   "cell_type": "code",
   "execution_count": 4,
   "id": "d736d9bd",
   "metadata": {},
   "outputs": [],
   "source": [
    "def benchmark_path_planning(find_path_fn, smooth_fn=None):\n",
    "    indiv_times = []\n",
    "    start_time = time.time()\n",
    "    for percep_data in percep_datas:\n",
    "        curr_start_time = time.time()\n",
    "        path = find_path_fn(percep_data)\n",
    "        \n",
    "        if smooth_fn is not None:\n",
    "            path = smooth_fn(path)\n",
    "            \n",
    "        curr_end_time = time.time()\n",
    "        indiv_times.append(curr_end_time - curr_start_time)\n",
    "    end_time = time.time()\n",
    "    \n",
    "    print(f\"took {end_time - start_time:.2f} seconds\")\n",
    "    print(f\"\\tMean time: {((end_time - start_time) / len(percep_datas) * 1000):.3f} ms\")\n",
    "    print(f\"\\tMax time: {max(indiv_times) * 1000:.3f} ms\")\n",
    "    print(f\"\\tMin time: {min(indiv_times) * 1000:.3f} ms\")"
   ]
  },
  {
   "cell_type": "code",
   "execution_count": 5,
   "id": "0f56e860",
   "metadata": {},
   "outputs": [],
   "source": [
    "# initializing\n",
    "path_planner = PathPlanner()\n",
    "old_path_planner = OldPathPlanner({\"n_steps\": 20})\n",
    "david_planner = DavidPathPlanning()"
   ]
  },
  {
   "cell_type": "code",
   "execution_count": 6,
   "id": "f3f348b6",
   "metadata": {
    "scrolled": true
   },
   "outputs": [
    {
     "name": "stdout",
     "output_type": "stream",
     "text": [
      "took 10.37 seconds\n",
      "\tMean time: 10.973 ms\n",
      "\tMax time: 27.184 ms\n",
      "\tMin time: 3.170 ms\n"
     ]
    }
   ],
   "source": [
    "benchmark_path_planning(find_path_fn=path_planner.find_path, smooth_fn=stanley_smooth_path)"
   ]
  },
  {
   "cell_type": "code",
   "execution_count": 7,
   "id": "c43f3ebc",
   "metadata": {},
   "outputs": [
    {
     "name": "stdout",
     "output_type": "stream",
     "text": [
      "took 4.90 seconds\n",
      "\tMean time: 5.182 ms\n",
      "\tMax time: 18.652 ms\n",
      "\tMin time: 0.683 ms\n"
     ]
    }
   ],
   "source": [
    "benchmark_path_planning(find_path_fn=path_planner.find_path, smooth_fn=None)"
   ]
  },
  {
   "cell_type": "code",
   "execution_count": 8,
   "id": "686b54ca",
   "metadata": {},
   "outputs": [
    {
     "name": "stdout",
     "output_type": "stream",
     "text": [
      "took 0.85 seconds\n",
      "\tMean time: 0.898 ms\n",
      "\tMax time: 4.185 ms\n",
      "\tMin time: 0.153 ms\n"
     ]
    }
   ],
   "source": [
    "benchmark_path_planning(find_path_fn=old_path_planner.find_path, smooth_fn=None)"
   ]
  },
  {
   "cell_type": "code",
   "execution_count": 9,
   "id": "58f2528f",
   "metadata": {},
   "outputs": [
    {
     "name": "stdout",
     "output_type": "stream",
     "text": [
      "took 5.90 seconds\n",
      "\tMean time: 6.248 ms\n",
      "\tMax time: 54.897 ms\n",
      "\tMin time: 2.101 ms\n"
     ]
    }
   ],
   "source": [
    "benchmark_path_planning(find_path_fn=old_path_planner.find_path, smooth_fn=optimized_smooth_path)"
   ]
  },
  {
   "cell_type": "code",
   "execution_count": 10,
   "id": "df05dd8d",
   "metadata": {},
   "outputs": [
    {
     "name": "stdout",
     "output_type": "stream",
     "text": [
      "took 5.28 seconds\n",
      "\tMean time: 5.583 ms\n",
      "\tMax time: 11.555 ms\n",
      "\tMin time: 2.438 ms\n"
     ]
    }
   ],
   "source": [
    "benchmark_path_planning(find_path_fn=david_planner.find_path, smooth_fn=david_smooth)"
   ]
  },
  {
   "cell_type": "code",
   "execution_count": 11,
   "id": "79a604cc",
   "metadata": {},
   "outputs": [
    {
     "name": "stdout",
     "output_type": "stream",
     "text": [
      "took 0.63 seconds\n",
      "\tMean time: 0.671 ms\n",
      "\tMax time: 1.710 ms\n",
      "\tMin time: 0.257 ms\n"
     ]
    }
   ],
   "source": [
    "benchmark_path_planning(find_path_fn=david_planner.find_path, smooth_fn=None)"
   ]
  },
  {
   "cell_type": "markdown",
   "id": "c2866edc",
   "metadata": {},
   "source": [
    "## Custom solution"
   ]
  },
  {
   "cell_type": "code",
   "execution_count": 21,
   "id": "e70e575f",
   "metadata": {},
   "outputs": [],
   "source": [
    "cones = percep_datas[310]\n",
    "path = david_planner.find_path(cones)\n",
    "smoother_path = torch_smooth(path)\n",
    "# smoother_path = david_smooth(path)"
   ]
  },
  {
   "cell_type": "code",
   "execution_count": 22,
   "id": "0118c0d6",
   "metadata": {},
   "outputs": [
    {
     "data": {
      "image/png": "[encoded data removed]",
      "text/plain": [
       "<Figure size 432x288 with 1 Axes>"
      ]
     },
     "metadata": {
      "needs_background": "light"
     },
     "output_type": "display_data"
    }
   ],
   "source": [
    "plt.plot(cones[:,0], cones[:,1], '.')\n",
    "plt.plot(path[:,0], path[:,1], '-', color='red' ,label='orig path')\n",
    "plt.plot(smoother_path[:,0], smoother_path[:,1], '-', color='green', label='torch smooth')\n",
    "plt.legend()\n",
    "plt.show()"
   ]
  },
  {
   "cell_type": "code",
   "execution_count": 20,
   "id": "d5caaab6",
   "metadata": {},
   "outputs": [
    {
     "name": "stdout",
     "output_type": "stream",
     "text": [
      "took 2.51 seconds\n",
      "\tMean time: 2.657 ms\n",
      "\tMax time: 5.046 ms\n",
      "\tMin time: 2.110 ms\n"
     ]
    }
   ],
   "source": [
    "benchmark_path_planning(find_path_fn=david_planner.find_path, smooth_fn=torch_smooth)"
   ]
  },
  {
   "cell_type": "code",
   "execution_count": null,
   "id": "d8f6ef44",
   "metadata": {},
   "outputs": [],
   "source": []
  }
 ],
 "metadata": {
  "kernelspec": {
   "display_name": "Python 3 (ipykernel)",
   "language": "python",
   "name": "python3"
  },
  "language_info": {
   "codemirror_mode": {
    "name": "ipython",
    "version": 3
   },
   "file_extension": ".py",
   "mimetype": "text/x-python",
   "name": "python",
   "nbconvert_exporter": "python",
   "pygments_lexer": "ipython3",
   "version": "3.8.5"
  },
  "varInspector": {
   "cols": {
    "lenName": 16,
    "lenType": 16,
    "lenVar": 40
   },
   "kernels_config": {
    "python": {
     "delete_cmd_postfix": "",
     "delete_cmd_prefix": "del ",
     "library": "var_list.py",
     "varRefreshCmd": "print(var_dic_list())"
    },
    "r": {
     "delete_cmd_postfix": ") ",
     "delete_cmd_prefix": "rm(",
     "library": "var_list.r",
     "varRefreshCmd": "cat(var_dic_list()) "
    }
   },
   "types_to_exclude": [
    "module",
    "function",
    "builtin_function_or_method",
    "instance",
    "_Feature"
   ],
   "window_display": false
  }
 },
 "nbformat": 4,
 "nbformat_minor": 5
}
