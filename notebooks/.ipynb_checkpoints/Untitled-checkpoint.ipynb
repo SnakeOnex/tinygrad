{
 "cells": [
  {
   "cell_type": "code",
   "execution_count": 1,
   "id": "c6150e4e",
   "metadata": {
    "tags": []
   },
   "outputs": [
    {
     "ename": "ModuleNotFoundError",
     "evalue": "No module named 'tvojemama'",
     "output_type": "error",
     "traceback": [
      "\u001b[0;31m---------------------------------------------------------------------------\u001b[0m",
      "\u001b[0;31mModuleNotFoundError\u001b[0m                       Traceback (most recent call last)",
      "Cell \u001b[0;32mIn[1], line 9\u001b[0m\n\u001b[1;32m      6\u001b[0m \u001b[38;5;28;01mfrom\u001b[39;00m \u001b[38;5;21;01malgorithms\u001b[39;00m\u001b[38;5;21;01m.\u001b[39;00m\u001b[38;5;21;01mpath_planning\u001b[39;00m \u001b[38;5;28;01mimport\u001b[39;00m PathPlanner, stanley_smooth_path\n\u001b[1;32m      7\u001b[0m \u001b[38;5;28;01mfrom\u001b[39;00m \u001b[38;5;21;01malgorithms\u001b[39;00m\u001b[38;5;21;01m.\u001b[39;00m\u001b[38;5;21;01moptimized_path_planning\u001b[39;00m \u001b[38;5;28;01mimport\u001b[39;00m stanley_smooth_path \u001b[38;5;28;01mas\u001b[39;00m optimized_smooth_path\n\u001b[0;32m----> 9\u001b[0m \u001b[38;5;28;01mfrom\u001b[39;00m \u001b[38;5;21;01mtvojemama\u001b[39;00m\u001b[38;5;21;01m.\u001b[39;00m\u001b[38;5;21;01mlogger\u001b[39;00m \u001b[38;5;28;01mimport\u001b[39;00m Logger\n",
      "\u001b[0;31mModuleNotFoundError\u001b[0m: No module named 'tvojemama'"
     ]
    }
   ],
   "source": [
    "import sys\n",
    "import os\n",
    "sys.path.append(\".\")\n",
    "sys.path.append(\"..\")\n",
    "\n",
    "from algorithms.path_planning import PathPlanner, stanley_smooth_path\n",
    "from algorithms.optimized_path_planning import stanley_smooth_path as optimized_smooth_path\n",
    "\n",
    "from tvojemama.logger import Logger"
   ]
  },
  {
   "cell_type": "markdown",
   "id": "4cd9c560",
   "metadata": {},
   "source": [
    "## Gather data from log"
   ]
  },
  {
   "cell_type": "code",
   "execution_count": 14,
   "id": "8d4b7425",
   "metadata": {},
   "outputs": [
    {
     "data": {
      "text/plain": [
       "'/home/snakeone/eforce/bros/notebooks'"
      ]
     },
     "execution_count": 14,
     "metadata": {},
     "output_type": "execute_result"
    }
   ],
   "source": [
    "os.getcwd()"
   ]
  },
  {
   "cell_type": "code",
   "execution_count": 15,
   "id": "14d5e9ff",
   "metadata": {},
   "outputs": [],
   "source": [
    "log_path = \"../data/broslogs/04_05_2023-18_29_34/AS/mission_04_05_2023-18_29_34.pkl\""
   ]
  },
  {
   "cell_type": "code",
   "execution_count": null,
   "id": "b7eeb207",
   "metadata": {},
   "outputs": [],
   "source": []
  }
 ],
 "metadata": {
  "kernelspec": {
   "display_name": "Python 3 (ipykernel)",
   "language": "python",
   "name": "python3"
  },
  "language_info": {
   "codemirror_mode": {
    "name": "ipython",
    "version": 3
   },
   "file_extension": ".py",
   "mimetype": "text/x-python",
   "name": "python",
   "nbconvert_exporter": "python",
   "pygments_lexer": "ipython3",
   "version": "3.10.9"
  }
 },
 "nbformat": 4,
 "nbformat_minor": 5
}
